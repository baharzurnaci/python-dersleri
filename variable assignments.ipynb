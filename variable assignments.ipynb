{
 "cells": [
  {
   "cell_type": "code",
   "execution_count": 7,
   "id": "b6f73e75",
   "metadata": {},
   "outputs": [],
   "source": [
    "# Değişken Atama (Variable Assignment)\n",
    "a = 2"
   ]
  },
  {
   "cell_type": "code",
   "execution_count": null,
   "id": "99c0fce9",
   "metadata": {},
   "outputs": [],
   "source": [
    "# Bu değer atama işlemini = sembolü ile yapacağız. Normalde bildiğimiz anlamından farklı bu = işareti. Eşitliğin sağındaki değeri solda yazdığımızın değeri olarak ata demiş oluyoruz bununla. Bu işleme variable assignment deniyor."
   ]
  },
  {
   "cell_type": "code",
   "execution_count": 3,
   "id": "28c74935",
   "metadata": {},
   "outputs": [
    {
     "data": {
      "text/plain": [
       "2"
      ]
     },
     "execution_count": 3,
     "metadata": {},
     "output_type": "execute_result"
    }
   ],
   "source": [
    "a"
   ]
  },
  {
   "cell_type": "code",
   "execution_count": 4,
   "id": "d0897fd3",
   "metadata": {},
   "outputs": [
    {
     "data": {
      "text/plain": [
       "7"
      ]
     },
     "execution_count": 4,
     "metadata": {},
     "output_type": "execute_result"
    }
   ],
   "source": [
    "a + 5"
   ]
  },
  {
   "cell_type": "code",
   "execution_count": 5,
   "id": "6aa611f5",
   "metadata": {},
   "outputs": [],
   "source": [
    "b = 2 + 4"
   ]
  },
  {
   "cell_type": "code",
   "execution_count": 6,
   "id": "b184baa9",
   "metadata": {},
   "outputs": [
    {
     "data": {
      "text/plain": [
       "6"
      ]
     },
     "execution_count": 6,
     "metadata": {},
     "output_type": "execute_result"
    }
   ],
   "source": [
    "b"
   ]
  },
  {
   "cell_type": "code",
   "execution_count": 15,
   "id": "fe591018",
   "metadata": {},
   "outputs": [],
   "source": [
    "limon_fiyat = 15"
   ]
  },
  {
   "cell_type": "code",
   "execution_count": 16,
   "id": "efbb3108",
   "metadata": {},
   "outputs": [],
   "source": [
    "s1 = limon_fiyat * 100"
   ]
  },
  {
   "cell_type": "code",
   "execution_count": 17,
   "id": "54375af6",
   "metadata": {},
   "outputs": [],
   "source": [
    "s2 = limon_fiyat * 70"
   ]
  },
  {
   "cell_type": "code",
   "execution_count": 18,
   "id": "5f079833",
   "metadata": {},
   "outputs": [],
   "source": [
    "s3 = limon_fiyat * 30"
   ]
  },
  {
   "cell_type": "code",
   "execution_count": 19,
   "id": "685d8ab0",
   "metadata": {},
   "outputs": [
    {
     "name": "stdout",
     "output_type": "stream",
     "text": [
      "1500\n"
     ]
    }
   ],
   "source": [
    "print(s1)"
   ]
  },
  {
   "cell_type": "code",
   "execution_count": 20,
   "id": "42f39228",
   "metadata": {},
   "outputs": [
    {
     "name": "stdout",
     "output_type": "stream",
     "text": [
      "1050\n"
     ]
    }
   ],
   "source": [
    "print(s2)"
   ]
  },
  {
   "cell_type": "code",
   "execution_count": 21,
   "id": "36dbe780",
   "metadata": {},
   "outputs": [
    {
     "name": "stdout",
     "output_type": "stream",
     "text": [
      "450\n"
     ]
    }
   ],
   "source": [
    "print(s3)"
   ]
  },
  {
   "cell_type": "code",
   "execution_count": 24,
   "id": "eb5fb928",
   "metadata": {},
   "outputs": [],
   "source": [
    "s1 = 15 * 100"
   ]
  },
  {
   "cell_type": "code",
   "execution_count": 25,
   "id": "ed94dc08",
   "metadata": {},
   "outputs": [],
   "source": [
    "s2 = 15 * 70"
   ]
  },
  {
   "cell_type": "code",
   "execution_count": 26,
   "id": "10f760f6",
   "metadata": {},
   "outputs": [],
   "source": [
    "s3 = 15 * 30"
   ]
  },
  {
   "cell_type": "code",
   "execution_count": 27,
   "id": "3f9439cd",
   "metadata": {},
   "outputs": [
    {
     "name": "stdout",
     "output_type": "stream",
     "text": [
      "1500\n"
     ]
    }
   ],
   "source": [
    "print(s1)"
   ]
  },
  {
   "cell_type": "code",
   "execution_count": 28,
   "id": "7dfad43e",
   "metadata": {},
   "outputs": [
    {
     "name": "stdout",
     "output_type": "stream",
     "text": [
      "1050\n"
     ]
    }
   ],
   "source": [
    "print(s2)"
   ]
  },
  {
   "cell_type": "code",
   "execution_count": 29,
   "id": "8631e095",
   "metadata": {},
   "outputs": [
    {
     "name": "stdout",
     "output_type": "stream",
     "text": [
      "450\n"
     ]
    }
   ],
   "source": [
    "print(s3)"
   ]
  },
  {
   "cell_type": "code",
   "execution_count": 30,
   "id": "6bd6d579",
   "metadata": {},
   "outputs": [],
   "source": [
    "a=7.9+3 #bölüm sonu sorusu:)"
   ]
  },
  {
   "cell_type": "code",
   "execution_count": 31,
   "id": "08cbbd78",
   "metadata": {},
   "outputs": [
    {
     "data": {
      "text/plain": [
       "10.9"
      ]
     },
     "execution_count": 31,
     "metadata": {},
     "output_type": "execute_result"
    }
   ],
   "source": [
    "a"
   ]
  }
 ],
 "metadata": {
  "kernelspec": {
   "display_name": "Python 3",
   "language": "python",
   "name": "python3"
  },
  "language_info": {
   "codemirror_mode": {
    "name": "ipython",
    "version": 3
   },
   "file_extension": ".py",
   "mimetype": "text/x-python",
   "name": "python",
   "nbconvert_exporter": "python",
   "pygments_lexer": "ipython3",
   "version": "3.8.8"
  }
 },
 "nbformat": 4,
 "nbformat_minor": 5
}
