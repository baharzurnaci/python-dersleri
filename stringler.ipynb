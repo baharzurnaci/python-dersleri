{
 "cells": [
  {
   "cell_type": "code",
   "execution_count": 1,
   "id": "0fdb8fbe",
   "metadata": {},
   "outputs": [],
   "source": [
    "# string; karakterlerden oluşan dizidir.\n",
    "# bir şeyin string olduğunu belirtmek için \"\" veya '' kullanılır."
   ]
  },
  {
   "cell_type": "code",
   "execution_count": 2,
   "id": "698602fb",
   "metadata": {},
   "outputs": [
    {
     "data": {
      "text/plain": [
       "'a'"
      ]
     },
     "execution_count": 2,
     "metadata": {},
     "output_type": "execute_result"
    }
   ],
   "source": [
    "\"a\" # hangi tırnakla başlarsak onunla biter"
   ]
  },
  {
   "cell_type": "code",
   "execution_count": 3,
   "id": "384a566c",
   "metadata": {},
   "outputs": [
    {
     "data": {
      "text/plain": [
       "'a'"
      ]
     },
     "execution_count": 3,
     "metadata": {},
     "output_type": "execute_result"
    }
   ],
   "source": [
    "'a'"
   ]
  },
  {
   "cell_type": "code",
   "execution_count": 4,
   "id": "c085d391",
   "metadata": {},
   "outputs": [
    {
     "data": {
      "text/plain": [
       "'5 + 10'"
      ]
     },
     "execution_count": 4,
     "metadata": {},
     "output_type": "execute_result"
    }
   ],
   "source": [
    "\"5 + 10\""
   ]
  },
  {
   "cell_type": "code",
   "execution_count": 5,
   "id": "fc88d3e7",
   "metadata": {},
   "outputs": [
    {
     "data": {
      "text/plain": [
       "'hey nasılsın'"
      ]
     },
     "execution_count": 5,
     "metadata": {},
     "output_type": "execute_result"
    }
   ],
   "source": [
    "\"hey nasılsın\""
   ]
  },
  {
   "cell_type": "code",
   "execution_count": 6,
   "id": "fcf5c4b6",
   "metadata": {},
   "outputs": [
    {
     "data": {
      "text/plain": [
       "str"
      ]
     },
     "execution_count": 6,
     "metadata": {},
     "output_type": "execute_result"
    }
   ],
   "source": [
    "type(\"hey nasılsın\")"
   ]
  },
  {
   "cell_type": "code",
   "execution_count": 7,
   "id": "d3d49fe4",
   "metadata": {},
   "outputs": [
    {
     "data": {
      "text/plain": [
       "\"bugün Kadıköy'e gidiyorum\""
      ]
     },
     "execution_count": 7,
     "metadata": {},
     "output_type": "execute_result"
    }
   ],
   "source": [
    "\"bugün Kadıköy'e gidiyorum\" # tek tırnak kullanacaksak başlangıç çift tırnak ile olmalı"
   ]
  },
  {
   "cell_type": "code",
   "execution_count": 12,
   "id": "d05f34d9",
   "metadata": {},
   "outputs": [
    {
     "data": {
      "text/plain": [
       "'Bana \"bugün ne yapıyorsun\" dedi'"
      ]
     },
     "execution_count": 12,
     "metadata": {},
     "output_type": "execute_result"
    }
   ],
   "source": [
    "# escape sequences\n",
    "\"Bana \\\"bugün ne yapıyorsun\\\" dedi\""
   ]
  },
  {
   "cell_type": "code",
   "execution_count": 14,
   "id": "a3da5293",
   "metadata": {},
   "outputs": [
    {
     "data": {
      "text/plain": [
       "\"bugün Kadıköy'e gidiyorum\""
      ]
     },
     "execution_count": 14,
     "metadata": {},
     "output_type": "execute_result"
    }
   ],
   "source": [
    "\"bugün Kadıköy\\'e gidiyorum\""
   ]
  },
  {
   "cell_type": "code",
   "execution_count": 15,
   "id": "cb28e5e7",
   "metadata": {},
   "outputs": [
    {
     "name": "stdout",
     "output_type": "stream",
     "text": [
      "hey\n",
      "nasılsın\n"
     ]
    }
   ],
   "source": [
    "print(\"hey\\nnasılsın\") # \\n; new line yani yeni satır demek"
   ]
  },
  {
   "cell_type": "code",
   "execution_count": 16,
   "id": "7f81bc16",
   "metadata": {},
   "outputs": [
    {
     "name": "stdout",
     "output_type": "stream",
     "text": [
      "hey\tnasılsın\n"
     ]
    }
   ],
   "source": [
    "print(\"hey\\tnasılsın\")"
   ]
  },
  {
   "cell_type": "code",
   "execution_count": 18,
   "id": "4bb65260",
   "metadata": {},
   "outputs": [
    {
     "name": "stdout",
     "output_type": "stream",
     "text": [
      "hımm \\\n"
     ]
    }
   ],
   "source": [
    "print(\"hımm \\\\\")"
   ]
  },
  {
   "cell_type": "code",
   "execution_count": 19,
   "id": "76759537",
   "metadata": {},
   "outputs": [
    {
     "data": {
      "text/plain": [
       "\"Bugün Mecidiyeköy'den Mecidiyeköy'\\\\e 40 dakikada gittim.\""
      ]
     },
     "execution_count": 19,
     "metadata": {},
     "output_type": "execute_result"
    }
   ],
   "source": [
    "\"Bugün Mecidiyeköy\\'den Mecidiyeköy'\\e 40 dakikada gittim.\" # bölüm sonu sorusu:)"
   ]
  },
  {
   "cell_type": "code",
   "execution_count": 20,
   "id": "b7efe548",
   "metadata": {},
   "outputs": [
    {
     "name": "stdout",
     "output_type": "stream",
     "text": [
      "Merhaba nasılsın bugün?\n"
     ]
    }
   ],
   "source": [
    "# String'lerde Değer Atama(Variable Assignment)\n",
    "\n",
    "merhaba = \"Merhaba nasılsın bugün?\"\n",
    "\n",
    "print(merhaba)"
   ]
  },
  {
   "cell_type": "code",
   "execution_count": 21,
   "id": "83b246b8",
   "metadata": {},
   "outputs": [
    {
     "data": {
      "text/plain": [
       "'54'"
      ]
     },
     "execution_count": 21,
     "metadata": {},
     "output_type": "execute_result"
    }
   ],
   "source": [
    "# String Concatenation: + operatörü sayısal veri tipleri üzerine etki edince toplama işlemi yapıyor. Ama uygulandığı objeler string ise yapacağı işlem concatenation (birleştirme) olacak. İki string'i art arta birleştirecek.\n",
    "\"5\" + \"4\""
   ]
  },
  {
   "cell_type": "code",
   "execution_count": 23,
   "id": "3c96ac6c",
   "metadata": {},
   "outputs": [
    {
     "data": {
      "text/plain": [
       "'hey nasılsın?'"
      ]
     },
     "execution_count": 23,
     "metadata": {},
     "output_type": "execute_result"
    }
   ],
   "source": [
    "\"hey \" + \"nasılsın?\""
   ]
  },
  {
   "cell_type": "code",
   "execution_count": 27,
   "id": "2f3ad097",
   "metadata": {},
   "outputs": [],
   "source": [
    "mesaj = \"merhaba\"\n"
   ]
  },
  {
   "cell_type": "code",
   "execution_count": 28,
   "id": "4a7d9ed4",
   "metadata": {},
   "outputs": [],
   "source": [
    "isim = \"bahar\""
   ]
  },
  {
   "cell_type": "code",
   "execution_count": 31,
   "id": "fd4a9e75",
   "metadata": {},
   "outputs": [
    {
     "data": {
      "text/plain": [
       "'merhaba bahar'"
      ]
     },
     "execution_count": 31,
     "metadata": {},
     "output_type": "execute_result"
    }
   ],
   "source": [
    "mesaj + \" \" + isim"
   ]
  },
  {
   "cell_type": "code",
   "execution_count": 32,
   "id": "136e692a",
   "metadata": {},
   "outputs": [
    {
     "name": "stdout",
     "output_type": "stream",
     "text": [
      "merhaba bahar\n"
     ]
    }
   ],
   "source": [
    "karsilama = mesaj + \" \" + isim\n",
    "\n",
    "print(karsilama)"
   ]
  },
  {
   "cell_type": "code",
   "execution_count": 33,
   "id": "5ebbe92d",
   "metadata": {},
   "outputs": [
    {
     "data": {
      "text/plain": [
       "'heyheyheyhey'"
      ]
     },
     "execution_count": 33,
     "metadata": {},
     "output_type": "execute_result"
    }
   ],
   "source": [
    "# Successive Concatenation(Ardışık Birleştirme)\n",
    "4 * \"hey\""
   ]
  },
  {
   "cell_type": "code",
   "execution_count": 37,
   "id": "b328334b",
   "metadata": {},
   "outputs": [
    {
     "data": {
      "text/plain": [
       "1"
      ]
     },
     "execution_count": 37,
     "metadata": {},
     "output_type": "execute_result"
    }
   ],
   "source": [
    "len(\"4\")"
   ]
  },
  {
   "cell_type": "code",
   "execution_count": 38,
   "id": "61f0e841",
   "metadata": {},
   "outputs": [
    {
     "data": {
      "text/plain": [
       "3"
      ]
     },
     "execution_count": 38,
     "metadata": {},
     "output_type": "execute_result"
    }
   ],
   "source": [
    "len(\"hey\")"
   ]
  },
  {
   "cell_type": "code",
   "execution_count": 40,
   "id": "69039ed9",
   "metadata": {},
   "outputs": [
    {
     "data": {
      "text/plain": [
       "2"
      ]
     },
     "execution_count": 40,
     "metadata": {},
     "output_type": "execute_result"
    }
   ],
   "source": [
    "len(\"  \") #boşluklar karakter olarak sayılıyor"
   ]
  },
  {
   "cell_type": "code",
   "execution_count": 95,
   "id": "2a41e55c",
   "metadata": {},
   "outputs": [],
   "source": [
    "# String Indexleme; belli elemanlara erişmek için kullanırız. \n",
    "#Index 0'dan başlar\n",
    "isim = \"Deniz\""
   ]
  },
  {
   "cell_type": "code",
   "execution_count": 94,
   "id": "80610468",
   "metadata": {},
   "outputs": [
    {
     "data": {
      "text/plain": [
       "'n'"
      ]
     },
     "execution_count": 94,
     "metadata": {},
     "output_type": "execute_result"
    }
   ],
   "source": [
    "isim[2]"
   ]
  },
  {
   "cell_type": "code",
   "execution_count": 96,
   "id": "f074ac22",
   "metadata": {},
   "outputs": [
    {
     "data": {
      "text/plain": [
       "'z'"
      ]
     },
     "execution_count": 96,
     "metadata": {},
     "output_type": "execute_result"
    }
   ],
   "source": [
    "isim[-1] # son elemanı yazdırmak için -1 yazabiliriz"
   ]
  },
  {
   "cell_type": "code",
   "execution_count": 98,
   "id": "10bc8f7b",
   "metadata": {},
   "outputs": [],
   "source": [
    "# Stringlerin elemanlarının değiştirilemez olduğundan bahsetmiştik (immutable). O yüzden şöyle şeyler yapamayız: (elemanlarını değiştirebildiğimiz non-scalar veri tiplerini de göreceğiz)"
   ]
  },
  {
   "cell_type": "code",
   "execution_count": null,
   "id": "b612b9ba",
   "metadata": {},
   "outputs": [],
   "source": [
    "# SLICING (dilimleme)\n",
    "isim"
   ]
  },
  {
   "cell_type": "code",
   "execution_count": 102,
   "id": "d869de6e",
   "metadata": {},
   "outputs": [
    {
     "data": {
      "text/plain": [
       "'Den'"
      ]
     },
     "execution_count": 102,
     "metadata": {},
     "output_type": "execute_result"
    }
   ],
   "source": [
    "isim[0:3] # başlangıç:bitiş olarak veriyoruz ve bitiş olarak verdiğimiz index dahil olmuyor. Başlangıcı belirtmezsek Python default olarak başlangıç değerini 0 alıyor."
   ]
  },
  {
   "cell_type": "code",
   "execution_count": 103,
   "id": "9feb61ec",
   "metadata": {},
   "outputs": [
    {
     "data": {
      "text/plain": [
       "'en'"
      ]
     },
     "execution_count": 103,
     "metadata": {},
     "output_type": "execute_result"
    }
   ],
   "source": [
    "isim[1:3]"
   ]
  },
  {
   "cell_type": "code",
   "execution_count": 104,
   "id": "0c4deefe",
   "metadata": {},
   "outputs": [
    {
     "data": {
      "text/plain": [
       "'Den'"
      ]
     },
     "execution_count": 104,
     "metadata": {},
     "output_type": "execute_result"
    }
   ],
   "source": [
    "isim[:3]"
   ]
  },
  {
   "cell_type": "code",
   "execution_count": 105,
   "id": "1e262f24",
   "metadata": {},
   "outputs": [
    {
     "data": {
      "text/plain": [
       "'Deniz'"
      ]
     },
     "execution_count": 105,
     "metadata": {},
     "output_type": "execute_result"
    }
   ],
   "source": [
    "isim[0:]"
   ]
  },
  {
   "cell_type": "code",
   "execution_count": 107,
   "id": "377adfa1",
   "metadata": {},
   "outputs": [
    {
     "data": {
      "text/plain": [
       "'Deniz'"
      ]
     },
     "execution_count": 107,
     "metadata": {},
     "output_type": "execute_result"
    }
   ],
   "source": [
    "isim[:]"
   ]
  },
  {
   "cell_type": "code",
   "execution_count": 108,
   "id": "f1c5f5b9",
   "metadata": {},
   "outputs": [
    {
     "data": {
      "text/plain": [
       "'Deniz'"
      ]
     },
     "execution_count": 108,
     "metadata": {},
     "output_type": "execute_result"
    }
   ],
   "source": [
    "# başlangıç:bitiş olarak slicing yapabileceğimiz gibi, başlangıç:bitiş:adım formunda da slicing yapabiliriz. Burada adım parametresi kaçar kaçar gideceğimizi belirler.\n",
    "isim"
   ]
  },
  {
   "cell_type": "code",
   "execution_count": 110,
   "id": "70819669",
   "metadata": {},
   "outputs": [
    {
     "data": {
      "text/plain": [
       "'Dnz'"
      ]
     },
     "execution_count": 110,
     "metadata": {},
     "output_type": "execute_result"
    }
   ],
   "source": [
    "isim[0:10:2]"
   ]
  },
  {
   "cell_type": "code",
   "execution_count": 112,
   "id": "ba9e38bc",
   "metadata": {},
   "outputs": [
    {
     "data": {
      "text/plain": [
       "'merhaba'"
      ]
     },
     "execution_count": 112,
     "metadata": {},
     "output_type": "execute_result"
    }
   ],
   "source": [
    "\"merhaba\""
   ]
  },
  {
   "cell_type": "code",
   "execution_count": 113,
   "id": "9133ccf5",
   "metadata": {},
   "outputs": [
    {
     "ename": "IndexError",
     "evalue": "string index out of range",
     "output_type": "error",
     "traceback": [
      "\u001b[0;31m---------------------------------------------------------------------------\u001b[0m",
      "\u001b[0;31mIndexError\u001b[0m                                Traceback (most recent call last)",
      "\u001b[0;32m<ipython-input-113-bd09937930ff>\u001b[0m in \u001b[0;36m<module>\u001b[0;34m\u001b[0m\n\u001b[0;32m----> 1\u001b[0;31m \u001b[0;34m\"merhaba\"\u001b[0m\u001b[0;34m[\u001b[0m\u001b[0;36m10\u001b[0m\u001b[0;34m]\u001b[0m\u001b[0;34m\u001b[0m\u001b[0;34m\u001b[0m\u001b[0m\n\u001b[0m",
      "\u001b[0;31mIndexError\u001b[0m: string index out of range"
     ]
    }
   ],
   "source": [
    "\"merhaba\"[10]"
   ]
  },
  {
   "cell_type": "code",
   "execution_count": 114,
   "id": "622c786a",
   "metadata": {},
   "outputs": [
    {
     "data": {
      "text/plain": [
       "'erhaba'"
      ]
     },
     "execution_count": 114,
     "metadata": {},
     "output_type": "execute_result"
    }
   ],
   "source": [
    "\"merhaba\"[1:10] "
   ]
  },
  {
   "cell_type": "code",
   "execution_count": 115,
   "id": "89d5887a",
   "metadata": {},
   "outputs": [],
   "source": [
    "# casting in strings\n",
    "a = \"5\""
   ]
  },
  {
   "cell_type": "code",
   "execution_count": 116,
   "id": "60b5cb25",
   "metadata": {},
   "outputs": [],
   "source": [
    "b = \"5.3\""
   ]
  },
  {
   "cell_type": "code",
   "execution_count": 117,
   "id": "59bc9ff2",
   "metadata": {},
   "outputs": [
    {
     "data": {
      "text/plain": [
       "5"
      ]
     },
     "execution_count": 117,
     "metadata": {},
     "output_type": "execute_result"
    }
   ],
   "source": [
    "int(a)"
   ]
  },
  {
   "cell_type": "code",
   "execution_count": 118,
   "id": "15a1562d",
   "metadata": {},
   "outputs": [
    {
     "data": {
      "text/plain": [
       "5.3"
      ]
     },
     "execution_count": 118,
     "metadata": {},
     "output_type": "execute_result"
    }
   ],
   "source": [
    "float(b)"
   ]
  },
  {
   "cell_type": "code",
   "execution_count": 119,
   "id": "47fc177d",
   "metadata": {},
   "outputs": [
    {
     "data": {
      "text/plain": [
       "5"
      ]
     },
     "execution_count": 119,
     "metadata": {},
     "output_type": "execute_result"
    }
   ],
   "source": [
    "int(float(b))"
   ]
  }
 ],
 "metadata": {
  "kernelspec": {
   "display_name": "Python 3",
   "language": "python",
   "name": "python3"
  },
  "language_info": {
   "codemirror_mode": {
    "name": "ipython",
    "version": 3
   },
   "file_extension": ".py",
   "mimetype": "text/x-python",
   "name": "python",
   "nbconvert_exporter": "python",
   "pygments_lexer": "ipython3",
   "version": "3.8.8"
  }
 },
 "nbformat": 4,
 "nbformat_minor": 5
}
