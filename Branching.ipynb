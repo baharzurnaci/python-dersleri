{
 "cells": [
  {
   "cell_type": "code",
   "execution_count": 6,
   "id": "3dec0aeb",
   "metadata": {},
   "outputs": [
    {
     "name": "stdout",
     "output_type": "stream",
     "text": [
      "Bir sayı girin: 4\n",
      "Sayınız çift sayı\n",
      "Programınız sona ulaştı\n"
     ]
    }
   ],
   "source": [
    "#if\n",
    "x = int(input(\"Bir sayı girin: \"))\n",
    "\n",
    "if x % 2 == 0: \n",
    "    print(\"Sayınız çift sayı\")\n",
    "\n",
    "print(\"Programınız sona ulaştı\")"
   ]
  },
  {
   "cell_type": "code",
   "execution_count": 2,
   "id": "e20f0c4e",
   "metadata": {},
   "outputs": [
    {
     "name": "stdout",
     "output_type": "stream",
     "text": [
      "Bir sayı girin: 3\n",
      "Sayınız tek sayı\n",
      "Programınız sona ulaştı\n"
     ]
    }
   ],
   "source": [
    "#else\n",
    "x = int(input(\"Bir sayı girin: \"))\n",
    "\n",
    "if x % 2 == 0:\n",
    "    print(\"Sayınız çift sayı\")\n",
    "else:\n",
    "    print(\"Sayınız tek sayı\")\n",
    "\n",
    "print(\"Programınız sona ulaştı\")"
   ]
  },
  {
   "cell_type": "code",
   "execution_count": 3,
   "id": "386757ef",
   "metadata": {},
   "outputs": [
    {
     "name": "stdout",
     "output_type": "stream",
     "text": [
      "Bir sayı girin: 4\n",
      "Sayı 10'dan küçük\n",
      "Programınız sona ulaştı\n"
     ]
    }
   ],
   "source": [
    "#elif\n",
    "x = int(input(\"Bir sayı girin: \"))\n",
    "\n",
    "if x < 10:\n",
    "    print(\"Sayı 10'dan küçük\")\n",
    "\n",
    "    \n",
    "elif x == 10:\n",
    "    print(\"Sayı 10'a eşit\")\n",
    "    \n",
    "else:\n",
    "    print(\"Sayı 10'dan büyük\")\n",
    "    \n",
    "print(\"Programınız sona ulaştı\")"
   ]
  },
  {
   "cell_type": "code",
   "execution_count": 5,
   "id": "abf2baae",
   "metadata": {},
   "outputs": [
    {
     "name": "stdout",
     "output_type": "stream",
     "text": [
      "0 ile 100 arasında bir sayı girin: 82\n",
      "Sayı 80 ile 90 arasında\n",
      "Programınız sona ulaştı\n"
     ]
    }
   ],
   "source": [
    "x = int(input(\"0 ile 100 arasında bir sayı girin: \"))\n",
    "\n",
    "if x == 100:\n",
    "    print(\"Sayı 100\")\n",
    "\n",
    "elif x >= 90:\n",
    "    print(\"Sayı 90 ile 100 arasında\")\n",
    "\n",
    "elif x >= 80:\n",
    "    print(\"Sayı 80 ile 90 arasında\")\n",
    "    \n",
    "else:\n",
    "    print(\"Sayı 80'den küçük\")\n",
    "    \n",
    "print(\"Programınız sona ulaştı\")"
   ]
  },
  {
   "cell_type": "code",
   "execution_count": 7,
   "id": "3f4cb26a",
   "metadata": {},
   "outputs": [
    {
     "name": "stdout",
     "output_type": "stream",
     "text": [
      "Bir sayı girin: 5\n",
      "3'e bölünmüyor\n",
      "Programınız sona ulaştı\n"
     ]
    }
   ],
   "source": [
    "# Nested if: if, elif ve else bloğunun içine yazdığımız kod normal koddan farklı değil, o yüzden bunların içine de ayrıca if, elif ve else yazabiliriz.\n",
    "\n",
    "x = int(input(\"Bir sayı girin: \"))\n",
    "\n",
    "if x % 3 == 0:\n",
    "    if x % 2 == 0:\n",
    "        print(\"Sayı hem 2'ye hem de 3'e bölünüyor\")\n",
    "    else:\n",
    "        print(\"Sayı 3'e bölünüyor ama 2'ye bölünmüyor\")\n",
    "\n",
    "else:\n",
    "    \n",
    "    print(\"3'e bölünmüyor\")\n",
    "    \n",
    "print(\"Programınız sona ulaştı\")"
   ]
  },
  {
   "cell_type": "code",
   "execution_count": 9,
   "id": "3c85bb9c",
   "metadata": {},
   "outputs": [
    {
     "name": "stdout",
     "output_type": "stream",
     "text": [
      "Bir sayı girin: 2\n",
      "Programınız sona ulaştı\n"
     ]
    }
   ],
   "source": [
    "#Test Olarak Mantıksal Operatörleri Kullanmak\n",
    "\n",
    "x = int(input(\"Bir sayı girin: \"))\n",
    "\n",
    "if (x % 3 == 0) and (x % 2) == 0:\n",
    "    print(\"Sayı hem 2'ye hem de 3'e bölünüyor\")\n",
    "    \n",
    "print(\"Programınız sona ulaştı\")"
   ]
  },
  {
   "cell_type": "code",
   "execution_count": 10,
   "id": "128b38c9",
   "metadata": {},
   "outputs": [
    {
     "name": "stdout",
     "output_type": "stream",
     "text": [
      "Bir sayı girin: 3\n",
      "Sayı 2 veya 3'den en az birine bölünüyor\n",
      "Programınız sona ulaştı\n"
     ]
    }
   ],
   "source": [
    "x = int(input(\"Bir sayı girin: \"))\n",
    "\n",
    "if (x % 3 == 0) or (x % 2 == 0):\n",
    "    print(\"Sayı 2 veya 3'den en az birine bölünüyor\")\n",
    "    \n",
    "print(\"Programınız sona ulaştı\")"
   ]
  }
 ],
 "metadata": {
  "kernelspec": {
   "display_name": "Python 3",
   "language": "python",
   "name": "python3"
  },
  "language_info": {
   "codemirror_mode": {
    "name": "ipython",
    "version": 3
   },
   "file_extension": ".py",
   "mimetype": "text/x-python",
   "name": "python",
   "nbconvert_exporter": "python",
   "pygments_lexer": "ipython3",
   "version": "3.8.8"
  }
 },
 "nbformat": 4,
 "nbformat_minor": 5
}
